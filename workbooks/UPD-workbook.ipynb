{
 "cells": [
  {
   "cell_type": "markdown",
   "metadata": {},
   "source": [
    "# Plot UPD Data\n",
    "## Run the following cells to import necessary libraries and define the required methods for plotting your data"
   ]
  },
  {
   "cell_type": "code",
   "execution_count": null,
   "metadata": {},
   "outputs": [],
   "source": [
    "import seaborn as sns\n",
    "import pandas as pd\n",
    "import numpy as np\n",
    "import matplotlib.pyplot as plt\n",
    "import matplotlib\n",
    "from matplotlib.ticker import FormatStrFormatter\n",
    "%matplotlib inline\n",
    "from collections import defaultdict"
   ]
  },
  {
   "cell_type": "code",
   "execution_count": null,
   "metadata": {},
   "outputs": [],
   "source": [
    "valid_states = ['mat_i_upd', 'mat_a_upd', 'pat_i_upd', 'pat_a_upd', 'bpi',] \n",
    "def states_per_region(df, chrom, sample, w=1000000 ):\n",
    "    counts = defaultdict(list)\n",
    "    chrom_df = df[(df.chrom == chrom) & (df.Sample == sample)]\n",
    "    i = chrom_df.iloc[0].pos\n",
    "    while i <= chrom_df.iloc[-1].pos - w:\n",
    "        window = chrom_df[(chrom_df.pos >= i) & (chrom_df.pos <= i + w)]\n",
    "        i += w\n",
    "        for state in valid_states:\n",
    "            if len(window) == 0:\n",
    "                continue    \n",
    "            elif state == 'mat_a_upd':\n",
    "                f = len(window[(window.state == state) | (window.state == 'mat_i_upd')])/len(window)\n",
    "            elif state == 'pat_a_upd':\n",
    "                f = len(window[(window.state == state) | (window.state == 'pat_i_upd')])/len(window)\n",
    "            else:\n",
    "                f = len(window[window.state == state])/len(window)\n",
    "            counts['State'].append(state)\n",
    "            counts['Frac'].append(f)\n",
    "            counts['Calls'].append(len(window))\n",
    "            counts['Pos'].append((i-w)/1e6) \n",
    "    return pd.DataFrame(counts)"
   ]
  },
  {
   "cell_type": "code",
   "execution_count": null,
   "metadata": {},
   "outputs": [],
   "source": [
    "def plot_upd(df, sample, chrom, w=1000000, fig_dimensions=(12, 6), marker=None):\n",
    "    states = states_per_region(df, sample=sample, chrom=chrom, w=w)\n",
    "    colors = sns.color_palette(\"Paired\", len(valid_states))\n",
    "    lbls = {'mat_i_upd': 'Maternal isodisomic UPD',\n",
    "            'mat_a_upd': 'Maternal total UPD',\n",
    "            'pat_i_upd': 'Paternal isodisomic UPD',\n",
    "            'pat_a_upd': 'Paternal total UPD',\n",
    "            'bpi'      :  'Bi-parental'\n",
    "           }\n",
    "    fig = plt.figure(figsize=fig_dimensions)\n",
    "    fig.suptitle(\"{} {}\".format(sample, chrom))\n",
    "    grid = plt.GridSpec(2, 2, wspace=0.4, hspace=0.3)\n",
    "    fig.add_subplot(grid[0, 1],) \n",
    "    plt.plot(states.Pos, states.Calls, color='red', marker=marker,\n",
    "             label=\"Calls per {:g} bp\".format(w))\n",
    "    plt.title(\"Calls per Window\")\n",
    "    plt.ylabel(\"Calls\")\n",
    "    plt.legend(bbox_to_anchor=(1.05, 1), loc=2, borderaxespad=0.)\n",
    "    fig.add_subplot(grid[1, 1],) \n",
    "    for i in range(len(valid_states)):\n",
    "        s = states[states.State == valid_states[i]]\n",
    "        plt.plot(s.Pos, s.Frac, color=colors[i],\n",
    "                 label=lbls[valid_states[i]],  marker=marker)\n",
    "    plt.legend(bbox_to_anchor=(1.05, 1), loc=2, borderaxespad=0.)\n",
    "    plt.title(\"States\")\n",
    "    plt.xlabel(\"Pos (Mb)\")\n",
    "    plt.ylabel(\"Fraction\")\n",
    "    pivot = states.pivot(\"State\", \"Pos\", \"Calls\")\n",
    "    fig.add_subplot(grid[0, 0],)\n",
    "    ax = sns.heatmap(pivot)\n",
    "    ax.set_title(\"Calls per Window\")\n",
    "    ax.xaxis.set_visible(False)\n",
    "    majorFormatter = FormatStrFormatter('%.2f')\n",
    "    fig.add_subplot(grid[1, 0],)\n",
    "    pivot = states.pivot(\"State\", \"Pos\", \"Frac\")\n",
    "    ax = sns.heatmap(pivot)\n",
    "    ax.set_title(\"States\")\n",
    "    majorFormatter = FormatStrFormatter('%.2f')\n",
    "    ax.xaxis.set_major_formatter(majorFormatter)"
   ]
  },
  {
   "cell_type": "code",
   "execution_count": null,
   "metadata": {},
   "outputs": [],
   "source": [
    "def plot_sig_upd(sample_file, pos_file, w=1e6, min_frac=0.05,\n",
    "                 min_vs_other_prob=1e-5, min_vs_self_prob=1e-5):\n",
    "    pos_state = pd.read_table(pos_file, names=[\"chrom\", \"pos\", \"Sample\", \"state\"])\n",
    "    sample_upd = pd.read_table(sample_file)\n",
    "    sigs = sample_upd[(sample_upd['Test'] != 'Homozygosity') & \n",
    "                      (sample_upd['vs_chrom'] < min_vs_other_prob) & \n",
    "                      (sample_upd['vs_self'] < min_vs_self_prob) & \n",
    "                      (sample_upd['Fraction'] > min_frac)]\n",
    "    for s in sigs.Sample.unique():\n",
    "        for c in sigs[sigs.Sample == s].Chrom.unique():\n",
    "            plot_upd(pos_state, sample=s, chrom=c, w=w)"
   ]
  },
  {
   "cell_type": "markdown",
   "metadata": {},
   "source": [
    "# The cells below will allow you to plot your data - customize them as needed"
   ]
  },
  {
   "cell_type": "code",
   "execution_count": null,
   "metadata": {},
   "outputs": [],
   "source": [
    "sns.set_context(\"talk\") #change to another seaborn context as required\n",
    "sns.set_style('darkgrid') #if you prefer a different background choose \n",
    "                          #either 'whitegrid', 'white' or 'dark' instead "
   ]
  },
  {
   "cell_type": "markdown",
   "metadata": {},
   "source": [
    "## The cell below will plot sample data per chromosome where there is a significant fraction of UPD genotypes"
   ]
  },
  {
   "cell_type": "code",
   "execution_count": null,
   "metadata": {},
   "outputs": [],
   "source": [
    "results_file = ... #specify the output from updiva.py here to find \n",
    "                   #samples and chromosomes to plot\n",
    "coord_file = ... #specify --coordinate_table output from updiva.py\n",
    "                 #here for reading UPD state data\n",
    "plot_sig_upd(results_file, coord_file, w=1e6, min_frac=0.05,\n",
    "             min_vs_other_prob=1e-5,  min_vs_self_prob=1e-5)"
   ]
  },
  {
   "cell_type": "markdown",
   "metadata": {},
   "source": [
    "## Alternatively read your result tables and inspect manually"
   ]
  },
  {
   "cell_type": "code",
   "execution_count": null,
   "metadata": {},
   "outputs": [],
   "source": [
    "results = pd.read_table(\"your_results_file_here.tsv\") \n",
    "coords = pd.read_table(\"your_coords_file_here.tsv.gz\",  \n",
    "                           names=[\"chrom\", \"pos\", \"Sample\", \"state\"])"
   ]
  },
  {
   "cell_type": "markdown",
   "metadata": {},
   "source": [
    "## Plot a specific sample and chromosome"
   ]
  },
  {
   "cell_type": "code",
   "execution_count": null,
   "metadata": {},
   "outputs": [],
   "source": [
    "plot_upd(coords, sample='your_sample', chrom='chr1')"
   ]
  }
 ],
 "metadata": {
  "kernelspec": {
   "display_name": "Python 3",
   "language": "python",
   "name": "python3"
  },
  "language_info": {
   "codemirror_mode": {
    "name": "ipython",
    "version": 3
   },
   "file_extension": ".py",
   "mimetype": "text/x-python",
   "name": "python",
   "nbconvert_exporter": "python",
   "pygments_lexer": "ipython3",
   "version": "3.6.5"
  }
 },
 "nbformat": 4,
 "nbformat_minor": 2
}
